{
  "nbformat": 4,
  "nbformat_minor": 0,
  "metadata": {
    "colab": {
      "provenance": [],
      "authorship_tag": "ABX9TyO5e9gXsXfkS2SOhMKYNqP3",
      "include_colab_link": true
    },
    "kernelspec": {
      "name": "python3",
      "display_name": "Python 3"
    },
    "language_info": {
      "name": "python"
    }
  },
  "cells": [
    {
      "cell_type": "markdown",
      "metadata": {
        "id": "view-in-github",
        "colab_type": "text"
      },
      "source": [
        "<a href=\"https://colab.research.google.com/github/Darielle-Angela-Valero/58009-DSAA/blob/main/Prelim_Exam.ipynb\" target=\"_parent\"><img src=\"https://colab.research.google.com/assets/colab-badge.svg\" alt=\"Open In Colab\"/></a>"
      ]
    },
    {
      "cell_type": "code",
      "execution_count": 9,
      "metadata": {
        "colab": {
          "base_uri": "https://localhost:8080/"
        },
        "id": "UrrS5SIUzjeG",
        "outputId": "d7705646-9e61-4e37-d61d-e13eed0c0c54"
      },
      "outputs": [
        {
          "output_type": "stream",
          "name": "stdout",
          "text": [
            "Total Score: 397\n"
          ]
        }
      ],
      "source": [
        "#Create the source code for adding the test scores 26, 49, 98, 87, 62, 75\n",
        "testscores = [26,49,98,87,62,75]\n",
        "x = testscores[0] + testscores[1] + testscores[2] + testscores[3] + testscores[4] + testscores[5] # sum of scores\n",
        "print(\"Total Score:\", x)"
      ]
    },
    {
      "cell_type": "code",
      "source": [
        "#Create a program to sort the test scores in ascending order\n",
        "testscores = [26,49,98,87,62,75]\n",
        "testscores.sort() #sorting\n",
        "print(testscores)"
      ],
      "metadata": {
        "colab": {
          "base_uri": "https://localhost:8080/"
        },
        "id": "lSHBULmN6tyj",
        "outputId": "8408515c-6f71-4ce0-eb52-9c6bb07b40bb"
      },
      "execution_count": 13,
      "outputs": [
        {
          "output_type": "stream",
          "name": "stdout",
          "text": [
            "[26, 49, 62, 75, 87, 98]\n"
          ]
        }
      ]
    }
  ]
}