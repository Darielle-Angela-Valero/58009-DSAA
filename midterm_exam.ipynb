{
  "nbformat": 4,
  "nbformat_minor": 0,
  "metadata": {
    "colab": {
      "provenance": [],
      "authorship_tag": "ABX9TyMy0/d+90TXaEO7khVN9ftL",
      "include_colab_link": true
    },
    "kernelspec": {
      "name": "python3",
      "display_name": "Python 3"
    },
    "language_info": {
      "name": "python"
    }
  },
  "cells": [
    {
      "cell_type": "markdown",
      "metadata": {
        "id": "view-in-github",
        "colab_type": "text"
      },
      "source": [
        "<a href=\"https://colab.research.google.com/github/Darielle-Angela-Valero/58009-DSAA/blob/main/midterm_exam.ipynb\" target=\"_parent\"><img src=\"https://colab.research.google.com/assets/colab-badge.svg\" alt=\"Open In Colab\"/></a>"
      ]
    },
    {
      "cell_type": "code",
      "source": [
        "class graph:\n",
        "  def __init__(self,gdict=None):\n",
        "    if gdict is None:\n",
        "      gdict = {}\n",
        "    self.gdict = gdict\n",
        "  def edges(self):\n",
        "    return self.findedges()\n",
        "  def findedges(self):\n",
        "    edgename = []\n",
        "    for vrtx in self.gdict:\n",
        "        for nxtvrtx in self.gdict[vrtx]:\n",
        "          if {nxtvrtx, vrtx} not in edgename:\n",
        "            edgename.append({vrtx, nxtvrtx})\n",
        "    return edgename\n",
        "  def getVertices(self):\n",
        "    return list(self.gdict.keys())\n",
        "g_elem = {\n",
        " \"A\":[\"B\"],\n",
        " \"B\":[\"A\",\"C\",\"E\",\"F\"],\n",
        " \"C\":[\"B\",\"D\",\"E\",\"F\",\"I\",\"M\"],\n",
        " \"D\":[\"C\",\"K\",\"L\"],\n",
        " \"E\":[\"B\",\"C\",\"E\"],\n",
        " \"F\":[\"B\",\"C\",\"G\",\"I\"],\n",
        " \"G\":[\"F\",\"I\",\"J\"],\n",
        " \"I\":[\"C\",\"F\",\"G\",\"J\",\"K\"],\n",
        " \"J\":[\"G\",\"I\",\"K\"],\n",
        " \"K\":[\"D\",\"I\",\"J\"],\n",
        " \"L\":[\"D\",\"M\",\"P\"],\n",
        " \"M\":[\"C\",\"L\",\"N\",\"O\",\"P\"],\n",
        " \"N\":[\"E\",\"M\",\"O\"],\n",
        " \"O\":[\"N\",\"P\"],\n",
        " \"P\":[\"L\",\"M\",\"O\"]\n",
        "  }\n",
        "g = graph(g_elem)\n",
        "print(\"Vertices:\", g.getVertices())\n",
        "print(\"Edges:\", g.edges())\n"
      ],
      "metadata": {
        "colab": {
          "base_uri": "https://localhost:8080/"
        },
        "id": "bwXL3LSeHVuJ",
        "outputId": "f86f2873-c1aa-483c-b7e5-98f344b2b113"
      },
      "execution_count": 4,
      "outputs": [
        {
          "output_type": "stream",
          "name": "stdout",
          "text": [
            "Vertices: ['A', 'B', 'C', 'D', 'E', 'F', 'G', 'I', 'J', 'K', 'L', 'M', 'N', 'O', 'P']\n",
            "Edges: [{'B', 'A'}, {'B', 'C'}, {'B', 'E'}, {'B', 'F'}, {'D', 'C'}, {'E', 'C'}, {'F', 'C'}, {'C', 'I'}, {'M', 'C'}, {'D', 'K'}, {'D', 'L'}, {'E'}, {'F', 'G'}, {'F', 'I'}, {'G', 'I'}, {'J', 'G'}, {'J', 'I'}, {'K', 'I'}, {'J', 'K'}, {'L', 'M'}, {'P', 'L'}, {'N', 'M'}, {'O', 'M'}, {'P', 'M'}, {'E', 'N'}, {'O', 'N'}, {'P', 'O'}]\n"
          ]
        }
      ]
    }
  ]
}