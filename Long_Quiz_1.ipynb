{
  "nbformat": 4,
  "nbformat_minor": 0,
  "metadata": {
    "colab": {
      "provenance": [],
      "authorship_tag": "ABX9TyP7SR6RULkuprobIkM6ACLY",
      "include_colab_link": true
    },
    "kernelspec": {
      "name": "python3",
      "display_name": "Python 3"
    },
    "language_info": {
      "name": "python"
    }
  },
  "cells": [
    {
      "cell_type": "markdown",
      "metadata": {
        "id": "view-in-github",
        "colab_type": "text"
      },
      "source": [
        "<a href=\"https://colab.research.google.com/github/Darielle-Angela-Valero/58009-DSAA/blob/main/Long_Quiz_1.ipynb\" target=\"_parent\"><img src=\"https://colab.research.google.com/assets/colab-badge.svg\" alt=\"Open In Colab\"/></a>"
      ]
    },
    {
      "cell_type": "code",
      "source": [
        "full_name = \"Darielle Angela Valero\"\n",
        "print(\"Full name:\", full_name)\n",
        "reverse_name = []\n",
        "for x in full_name:\n",
        "    reverse_name.append(x)\n",
        "reverse_name.reverse()\n",
        "for x in reverse_name:\n",
        "    print(x)"
      ],
      "metadata": {
        "colab": {
          "base_uri": "https://localhost:8080/"
        },
        "id": "XdP9GvIxFOol",
        "outputId": "c30ab83b-3dd7-4ffc-fc27-74ce208d03c5"
      },
      "execution_count": 50,
      "outputs": [
        {
          "output_type": "stream",
          "name": "stdout",
          "text": [
            "Full name: Darielle Angela Valero\n",
            "o\n",
            "r\n",
            "e\n",
            "l\n",
            "a\n",
            "V\n",
            " \n",
            "a\n",
            "l\n",
            "e\n",
            "g\n",
            "n\n",
            "A\n",
            " \n",
            "e\n",
            "l\n",
            "l\n",
            "e\n",
            "i\n",
            "r\n",
            "a\n",
            "D\n"
          ]
        }
      ]
    },
    {
      "cell_type": "code",
      "source": [
        "# Using the set of positive whole numbers from 1 to 10, create a python or C++ program that displays if it is prime or composite.\n",
        "\n",
        "numbers = [1,2,3,4,5,6,7,8,9,10]\n",
        "\n",
        "def isPrime(n):\n",
        "    if n <= 1:\n",
        "        return False\n",
        "    if n <= 3:\n",
        "        return True\n",
        "\n",
        "    if n % 2 == 0 or n % 3 == 0:\n",
        "        return False\n",
        "\n",
        "    i = 5\n",
        "    while i * i <= n:\n",
        "        if n % i == 0 or n % (i + 2) == 0:\n",
        "            return False\n",
        "        i += 6\n",
        "\n",
        "    return True\n",
        "\n",
        "def isComposite(n):\n",
        "    if n <= 1:\n",
        "        return False\n",
        "    if n <= 3:\n",
        "        return False\n",
        "\n",
        "    if n % 2 == 0 or n % 3 == 0:\n",
        "        return True\n",
        "\n",
        "    i = 5\n",
        "    while i * i <= n:\n",
        "        if n % i == 0 or n % (i + 2) == 0:\n",
        "            return False\n",
        "        i += 6\n",
        "\n",
        "    return False\n",
        "\n",
        "class Node:\n",
        "  def __init__(self, data):\n",
        "    self.data = data\n",
        "    self.next = None\n",
        "\n",
        "class LinkedList:\n",
        "  def __init__(self):\n",
        "    self.head = None\n",
        "    self.tail = None\n",
        "\n",
        "  def addNode(self, data):\n",
        "      newNode = Node(data)\n",
        "      if self.head == None:\n",
        "        self.head = newNode\n",
        "        self.tail = newNode\n",
        "      else:\n",
        "        self.tail.next = newNode\n",
        "        self.tail = newNode\n",
        "\n",
        "prime_list = LinkedList()\n",
        "composite_list = LinkedList()\n",
        "\n",
        "for number in range(1,10):\n",
        "   if isPrime(number):\n",
        "    prime_list.addNode(number)\n",
        "\n",
        "for number in range(1,10):\n",
        "   if isComposite(number):\n",
        "    composite_list.addNode(number)\n",
        "\n",
        "current = prime_list.head\n",
        "print(\"Prime Numbers:\")\n",
        "while current:\n",
        "  print(current.data, end= ' ' )\n",
        "  current = current.next\n",
        "\n",
        "current = composite_list.head\n",
        "print(\"\\nComposite Numbers:\")\n",
        "while current:\n",
        "  print(current.data, end=' ')\n",
        "  current = current.next\n",
        "\n",
        "\n",
        "\n"
      ],
      "metadata": {
        "colab": {
          "base_uri": "https://localhost:8080/"
        },
        "id": "5sBEKuO_6qob",
        "outputId": "4f1d086d-c6b7-4e9d-94e2-362695df34f1"
      },
      "execution_count": 46,
      "outputs": [
        {
          "output_type": "stream",
          "name": "stdout",
          "text": [
            "Prime Numbers:\n",
            "2 3 5 7 \n",
            "Composite Numbers:\n",
            "4 6 8 9 "
          ]
        }
      ]
    }
  ]
}