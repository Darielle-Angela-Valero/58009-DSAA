{
  "nbformat": 4,
  "nbformat_minor": 0,
  "metadata": {
    "colab": {
      "provenance": [],
      "authorship_tag": "ABX9TyOlY+/2kgh/Sc/HnkM9yqOU",
      "include_colab_link": true
    },
    "kernelspec": {
      "name": "python3",
      "display_name": "Python 3"
    },
    "language_info": {
      "name": "python"
    }
  },
  "cells": [
    {
      "cell_type": "markdown",
      "metadata": {
        "id": "view-in-github",
        "colab_type": "text"
      },
      "source": [
        "<a href=\"https://colab.research.google.com/github/Darielle-Angela-Valero/58009-DSAA/blob/main/LinkedList.ipynb\" target=\"_parent\"><img src=\"https://colab.research.google.com/assets/colab-badge.svg\" alt=\"Open In Colab\"/></a>"
      ]
    },
    {
      "cell_type": "code",
      "source": [
        " #Example 1\n",
        " import array\n",
        "array.typecodes #get all typecodes\n",
        "a = array.array('i', [1,2,3,4,5,6])  #initializing array a\n",
        "b = array.array('f', [1.5,2.5,3.5,4.5,5.5,6.5]) #initializing array b\n",
        "a.typecode #getting the typecode of a\n",
        "b.typecode #getting the typecode of b"
      ],
      "metadata": {
        "colab": {
          "base_uri": "https://localhost:8080/",
          "height": 35
        },
        "id": "OU9U1W5-tM_Y",
        "outputId": "b354f20d-3dad-40bf-adb4-6913e1aaf1b7"
      },
      "execution_count": null,
      "outputs": [
        {
          "output_type": "execute_result",
          "data": {
            "text/plain": [
              "'f'"
            ],
            "application/vnd.google.colaboratory.intrinsic+json": {
              "type": "string"
            }
          },
          "metadata": {},
          "execution_count": 7
        }
      ]
    },
    {
      "cell_type": "code",
      "source": [
        "from array import array # importing array from array module\n",
        "a= array('i',[4,5,6,7]) # initializing array\n",
        "a.insert(1,2) # inserting element: 2 at index: 1\n",
        "a # Printing array a\n",
        "array('i', [4, 2, 5, 6, 7])\n",
        "a.insert(-1,0) # insert element: 0 at index: -1\n",
        "a\n",
        "a.insert(10, -1) # insert element: -1 at index: 10, this is out of range\n",
        "a\n",
        "array('i', [4, 2, 5, 6, 0, 7, -1])"
      ],
      "metadata": {
        "colab": {
          "base_uri": "https://localhost:8080/"
        },
        "id": "RweqgtyftzS3",
        "outputId": "a2a4b66c-73cd-44b0-83a4-9a6829f69076"
      },
      "execution_count": null,
      "outputs": [
        {
          "output_type": "execute_result",
          "data": {
            "text/plain": [
              "array('i', [4, 2, 5, 6, 0, 7, -1])"
            ]
          },
          "metadata": {},
          "execution_count": 8
        }
      ]
    },
    {
      "cell_type": "code",
      "source": [
        "#Example 2\n",
        "import array\n",
        "a = array.array('i',[1,2,3,4,5])\n",
        "\n",
        "b = array.array('f',a)\n",
        "\n",
        "print(a)\n",
        "print(b)"
      ],
      "metadata": {
        "colab": {
          "base_uri": "https://localhost:8080/"
        },
        "id": "dA2nvrzQGS-h",
        "outputId": "045cf0c9-8947-45f0-f1a0-0a7f6b98fa25"
      },
      "execution_count": null,
      "outputs": [
        {
          "output_type": "stream",
          "name": "stdout",
          "text": [
            "array('i', [1, 2, 3, 4, 5])\n",
            "array('f', [1.0, 2.0, 3.0, 4.0, 5.0])\n"
          ]
        }
      ]
    },
    {
      "cell_type": "code",
      "source": [
        "#Example 3\n",
        "# Node class\n",
        "class Node:\n",
        "  # Function to initialize the node object\n",
        "  def __init__(self, data):\n",
        "    self.data = data # Assign data\n",
        "    self.next = None # Initialize\n",
        "  # next as null\n",
        "  # Linked List class\n",
        "  class LinkedList:\n",
        "    # Function to initialize the Linked\n",
        "    # List object\n",
        "    def __init__(self):\n",
        "      self.head = None"
      ],
      "metadata": {
        "id": "2S1qkA7sGVY9"
      },
      "execution_count": null,
      "outputs": []
    },
    {
      "cell_type": "markdown",
      "source": [
        "Singly-Linked List"
      ],
      "metadata": {
        "id": "xbkVQ1v0H2-u"
      }
    },
    {
      "cell_type": "code",
      "source": [
        "#Example 4\n",
        "class Node:\n",
        "  # Function to initialize the node object\n",
        "  def __init__(self, data):\n",
        "    self.data = data # Assign data\n",
        "    self.next = None # Initialize next as null\n",
        "\n",
        "# Linked List class contains a Node object\n",
        "class LinkedList:# Function to initialize head\n",
        "  def __init__(self):\n",
        "    self.head = None\n",
        "  def printlist(self):\n",
        "    temp = self.head\n",
        "    while (temp):\n",
        "      print(temp.data)\n",
        "      temp = temp.next\n",
        "\n",
        "if __name__=='__main__':\n",
        "\n",
        "  llist = LinkedList()\n",
        "\n",
        "  llist.head = Node(1)\n",
        "  second = Node(2)\n",
        "  third = Node(3)\n",
        "\n",
        "  llist.head.next = second;\n",
        "\n",
        "  second.next = third;\n",
        "\n",
        "  llist.printlist()"
      ],
      "metadata": {
        "colab": {
          "base_uri": "https://localhost:8080/"
        },
        "id": "4rvLXsEswTgy",
        "outputId": "1f80fa65-4cb0-4438-d6f1-c58a1195f7af"
      },
      "execution_count": null,
      "outputs": [
        {
          "output_type": "stream",
          "name": "stdout",
          "text": [
            "1\n",
            "2\n",
            "3\n"
          ]
        }
      ]
    },
    {
      "cell_type": "markdown",
      "source": [
        "Doubly-Linked List"
      ],
      "metadata": {
        "id": "JxGgVfYeH79l"
      }
    },
    {
      "cell_type": "code",
      "source": [
        "# Node class for a doubly linked list\n",
        "class Node:\n",
        "    # Function to initialize the node object\n",
        "    def __init__(self, data):\n",
        "        self.data = data  # Assign data\n",
        "        self.next = None  # set as null\n",
        "        self.prev = None  # set as null\n",
        "\n",
        "# Linked List class contains a Node object\n",
        "class LinkedList:\n",
        "    # initialize head\n",
        "    def __init__(self):\n",
        "        self.head = None\n",
        "\n",
        "        # Traverse and print the list backward\n",
        "    def printlist(self):\n",
        "        fronttemp = self.head\n",
        "        tailtemp = None\n",
        "        thirdnode = False\n",
        "        while fronttemp:\n",
        "          if fronttemp.data == 3 and not thirdnode:\n",
        "            thirdnode = True\n",
        "          elif thirdnode:\n",
        "            print(fronttemp.data)\n",
        "          else:\n",
        "            print(fronttemp.data)\n",
        "          tailtemp = fronttemp\n",
        "          fronttemp = fronttemp.next\n",
        "\n",
        "        while tailtemp:\n",
        "            print(tailtemp.data)\n",
        "            tailtemp = tailtemp.prev\n",
        "\n",
        "if __name__ == '__main__':\n",
        "    llist = LinkedList()  # creates a new empty linked list called llist\n",
        "\n",
        "    # makes three nodes\n",
        "    llist.head = Node(1)\n",
        "    second = Node(2)\n",
        "    third = Node(3)\n",
        "\n",
        "    # Updating the next and prev pointers to make it a doubly linked list\n",
        "    llist.head.next = second\n",
        "    second.prev = llist.head\n",
        "    second.next = third\n",
        "    third.prev = second\n",
        "\n",
        "    llist.printlist()"
      ],
      "metadata": {
        "colab": {
          "base_uri": "https://localhost:8080/"
        },
        "id": "sd3hUHEWFUgm",
        "outputId": "c701c8d2-29f7-4014-9745-573dc7998cb1"
      },
      "execution_count": 3,
      "outputs": [
        {
          "output_type": "stream",
          "name": "stdout",
          "text": [
            "1\n",
            "2\n",
            "3\n",
            "2\n",
            "1\n"
          ]
        }
      ]
    }
  ]
}