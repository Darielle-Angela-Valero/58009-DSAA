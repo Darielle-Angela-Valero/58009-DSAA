{
  "nbformat": 4,
  "nbformat_minor": 0,
  "metadata": {
    "colab": {
      "provenance": [],
      "authorship_tag": "ABX9TyNp9R//Vl6Evsuz2g29mVSh",
      "include_colab_link": true
    },
    "kernelspec": {
      "name": "python3",
      "display_name": "Python 3"
    },
    "language_info": {
      "name": "python"
    }
  },
  "cells": [
    {
      "cell_type": "markdown",
      "metadata": {
        "id": "view-in-github",
        "colab_type": "text"
      },
      "source": [
        "<a href=\"https://colab.research.google.com/github/Darielle-Angela-Valero/58009-DSAA/blob/main/Example_1.ipynb\" target=\"_parent\"><img src=\"https://colab.research.google.com/assets/colab-badge.svg\" alt=\"Open In Colab\"/></a>"
      ]
    },
    {
      "cell_type": "code",
      "execution_count": 7,
      "metadata": {
        "colab": {
          "base_uri": "https://localhost:8080/"
        },
        "id": "O_-nqsdMjUBF",
        "outputId": "72ef1f84-78fc-491d-85d9-9ffca64ba399"
      },
      "outputs": [
        {
          "output_type": "stream",
          "name": "stdout",
          "text": [
            "Length:6\n",
            "Width:6\n",
            "Area: 36\n"
          ]
        }
      ],
      "source": [
        "l= int(input(\"Length:\"))\n",
        "w= int(input(\"Width:\"))\n",
        "area=l*w\n",
        "print(\"Area:\", area)"
      ]
    }
  ]
}