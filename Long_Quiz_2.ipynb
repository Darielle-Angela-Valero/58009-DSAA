{
  "nbformat": 4,
  "nbformat_minor": 0,
  "metadata": {
    "colab": {
      "provenance": [],
      "authorship_tag": "ABX9TyO4OqKd+zhOCpwu4SkSsV4O",
      "include_colab_link": true
    },
    "kernelspec": {
      "name": "python3",
      "display_name": "Python 3"
    },
    "language_info": {
      "name": "python"
    }
  },
  "cells": [
    {
      "cell_type": "markdown",
      "metadata": {
        "id": "view-in-github",
        "colab_type": "text"
      },
      "source": [
        "<a href=\"https://colab.research.google.com/github/Darielle-Angela-Valero/58009-DSAA/blob/main/Long_Quiz_2.ipynb\" target=\"_parent\"><img src=\"https://colab.research.google.com/assets/colab-badge.svg\" alt=\"Open In Colab\"/></a>"
      ]
    },
    {
      "cell_type": "code",
      "execution_count": 5,
      "metadata": {
        "colab": {
          "base_uri": "https://localhost:8080/"
        },
        "id": "kxcC3YMtqB_L",
        "outputId": "566c931c-874a-4418-f263-a3f483de3354"
      },
      "outputs": [
        {
          "output_type": "stream",
          "name": "stdout",
          "text": [
            "Edges: [{'H', 'I'}, {'H', 'J'}, {'H', 'K'}, {'F', 'I'}, {'I', 'E'}, {'E', 'J'}, {'F', 'J'}, {'E', 'K'}, {'F', 'K'}, {'M', 'E'}, {'P', 'F'}]\n",
            "Vertices: ['H', 'I', 'J', 'K', 'E', 'M', 'F', 'P']\n"
          ]
        }
      ],
      "source": [
        "class graph:\n",
        "  def __init__(self,gdict=None):\n",
        "    if gdict is None:\n",
        "      gdict = {}\n",
        "    self.gdict = gdict\n",
        "  def Vertices(self):\n",
        "    return list(self.gdict.keys())\n",
        "  def edges(self):\n",
        "    return self.findedges()\n",
        "  def findedges(self):\n",
        "    edgename = []\n",
        "    for vertex in self.gdict:\n",
        "        for nxtvertex in self.gdict[vertex]:\n",
        "          if {nxtvertex, vertex} not in edgename:\n",
        "            edgename.append({vertex, nxtvertex})\n",
        "    return edgename\n",
        "\n",
        "graph_elements = {\n",
        " 'H': [\"I\",\"J\",\"K\"],\n",
        " 'I': [\"H\",\"F\",\"E\"],\n",
        " 'J': [\"E\",\"F\",\"H\"],\n",
        " 'K': [\"E\",\"F\",\"H\"],\n",
        " 'E': [\"I\",\"J\",\"K\",\"M\"],\n",
        " 'M': [\"E\"],\n",
        " 'F': [\"J\",\"I\",\"K\",\"P\"],\n",
        " 'P': [\"F\"]\n",
        "  }\n",
        "g = graph(graph_elements)\n",
        "print(\"Edges:\", g.edges())\n",
        "print(\"Vertices:\", g.Vertices())"
      ]
    }
  ]
}