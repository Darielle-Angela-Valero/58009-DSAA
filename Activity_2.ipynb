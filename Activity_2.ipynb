{
  "nbformat": 4,
  "nbformat_minor": 0,
  "metadata": {
    "colab": {
      "provenance": [],
      "authorship_tag": "ABX9TyO8nqWD4B+NdKzjldz0aVXr",
      "include_colab_link": true
    },
    "kernelspec": {
      "name": "python3",
      "display_name": "Python 3"
    },
    "language_info": {
      "name": "python"
    }
  },
  "cells": [
    {
      "cell_type": "markdown",
      "metadata": {
        "id": "view-in-github",
        "colab_type": "text"
      },
      "source": [
        "<a href=\"https://colab.research.google.com/github/Darielle-Angela-Valero/58009-DSAA/blob/main/Activity_2.ipynb\" target=\"_parent\"><img src=\"https://colab.research.google.com/assets/colab-badge.svg\" alt=\"Open In Colab\"/></a>"
      ]
    },
    {
      "cell_type": "code",
      "execution_count": 23,
      "metadata": {
        "colab": {
          "base_uri": "https://localhost:8080/"
        },
        "id": "UEvSsSN5Rw6d",
        "outputId": "c3a8835b-729d-403a-a976-f1d77efb82e9"
      },
      "outputs": [
        {
          "output_type": "stream",
          "name": "stdout",
          "text": [
            "\n",
            "2 3 5 7 11 13 17 19 \n",
            "Head: 2\n",
            "Tail: 19\n"
          ]
        }
      ],
      "source": [
        "def isPrime(n): #checks if number is a prime number\n",
        "\n",
        "    # Corner cases\n",
        "    if n <= 1:\n",
        "        return False\n",
        "    if n <= 3:\n",
        "        return True\n",
        "\n",
        "    # This is checked so that we can skip\n",
        "    # middle five numbers in below loop\n",
        "    if n % 2 == 0 or n % 3 == 0:\n",
        "        return False\n",
        "\n",
        "    i = 5\n",
        "    while i * i <= n:\n",
        "        if n % i == 0 or n % (i + 2) == 0:\n",
        "            return False\n",
        "        i += 6\n",
        "\n",
        "    return True\n",
        "\n",
        "class Node: # node of singly ll\n",
        "  def __init__(self, data):\n",
        "    self.data = data\n",
        "    self.next = None\n",
        "\n",
        "class LinkedList:\n",
        "  def __init__(self):\n",
        "    self.head = None\n",
        "    self.tail = None\n",
        "\n",
        "  def addNode(self, data): # add node to the end of list\n",
        "      newNode = Node(data)\n",
        "      if self.head == None:\n",
        "        self.head = newNode\n",
        "        self.tail = newNode\n",
        "      else:\n",
        "        self.tail.next = newNode\n",
        "        self.tail = newNode\n",
        "\n",
        "prime_list = LinkedList()\n",
        "for number in range (2,20):\n",
        "  if isPrime(number):\n",
        "    prime_list.addNode(number)\n",
        "\n",
        "current = prime_list.head\n",
        "print()\n",
        "while current:\n",
        "  print(current.data, end=' ')\n",
        "  current = current.next\n",
        "print(\"\\nHead:\", prime_list.head.data)\n",
        "print(\"Tail:\", prime_list.tail.data)\n",
        "\n"
      ]
    }
  ]
}