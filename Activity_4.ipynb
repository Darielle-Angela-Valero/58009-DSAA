{
  "nbformat": 4,
  "nbformat_minor": 0,
  "metadata": {
    "colab": {
      "provenance": [],
      "authorship_tag": "ABX9TyNrig/g357PhMnawObIq8b1",
      "include_colab_link": true
    },
    "kernelspec": {
      "name": "python3",
      "display_name": "Python 3"
    },
    "language_info": {
      "name": "python"
    }
  },
  "cells": [
    {
      "cell_type": "markdown",
      "metadata": {
        "id": "view-in-github",
        "colab_type": "text"
      },
      "source": [
        "<a href=\"https://colab.research.google.com/github/Darielle-Angela-Valero/58009-DSAA/blob/main/Activity_4.ipynb\" target=\"_parent\"><img src=\"https://colab.research.google.com/assets/colab-badge.svg\" alt=\"Open In Colab\"/></a>"
      ]
    },
    {
      "cell_type": "code",
      "execution_count": 1,
      "metadata": {
        "colab": {
          "base_uri": "https://localhost:8080/"
        },
        "id": "lscvKhDq1iuh",
        "outputId": "70c11338-d09f-4680-9ece-04aca000851a"
      },
      "outputs": [
        {
          "output_type": "stream",
          "name": "stdout",
          "text": [
            "Homework list: ['Differential Equation', 'Discrete Math', 'Electric Circuits', 'IPR', 'DSAL']\n",
            "Homework finished: Differential Equation\n",
            "Homework finished: Discrete Math\n",
            "Homework finished: Electric Circuits\n",
            "Current Homework list: ['IPR', 'DSAL']\n",
            "\n",
            "Another way where there is Empty List at the end:\n",
            "Homework list: ['Differential Equation', 'Discrete Math', 'Electric Circuits', 'IPR', 'DSAL']\n",
            "Homework done: Differential Equation\n",
            "Homework done: Discrete Math\n",
            "Homework done: Electric Circuits\n",
            "Homework done: IPR\n",
            "Homework done: DSAL\n",
            "Current Homework list: []\n"
          ]
        }
      ],
      "source": [
        "#Activity 4\n",
        "queue = []\n",
        "queue.append('Differential Equation')\n",
        "queue.append('Discrete Math')\n",
        "queue.append('Electric Circuits')\n",
        "queue.append('IPR')\n",
        "queue.append('DSAL')\n",
        "print(\"Homework list:\",list(queue))\n",
        "print('Homework finished:',queue.pop(0))\n",
        "print('Homework finished:',queue.pop(0))\n",
        "print('Homework finished:',queue.pop(0))\n",
        "print(\"Current Homework list:\", queue)\n",
        "\n",
        " # another way where there is no homework left in queue\n",
        "print('\\nAnother way where there is Empty List at the end:')\n",
        "queue = []\n",
        "queue.append('Differential Equation')\n",
        "queue.append('Discrete Math')\n",
        "queue.append('Electric Circuits')\n",
        "queue.append('IPR')\n",
        "queue.append('DSAL')\n",
        "print(\"Homework list:\",list(queue))\n",
        "while queue:\n",
        "  ass_queue = queue.pop(0)\n",
        "  print(\"Homework done:\", ass_queue)\n",
        "print(\"Current Homework list:\", queue)"
      ]
    }
  ]
}